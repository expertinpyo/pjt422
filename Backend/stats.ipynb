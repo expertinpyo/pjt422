{
 "cells": [
  {
   "cell_type": "code",
   "execution_count": 2,
   "id": "736c944c",
   "metadata": {},
   "outputs": [],
   "source": [
    "import pandas as pd\n",
    "import numpy as np\n",
    "from datetime import datetime\n",
    "\n",
    "today = ''.join(str(datetime.date(datetime.today())).split('-'))\n",
    "with open (f'logs/20220807', encoding='UTF8') as f:\n",
    "    records = [line.rstrip().split(' ') for line in f]\n",
    "columns = ['date', 'time', 'campus', 'building', 'floor', 'token', 'trash_type', 'rfid', 'amount']\n",
    "df = pd.DataFrame(records, columns=columns)\n",
    "\n"
   ]
  },
  {
   "cell_type": "code",
   "execution_count": 34,
   "id": "87dce59b",
   "metadata": {},
   "outputs": [
    {
     "data": {
      "text/plain": [
       "0       서울대학교\n",
       "1       서울대학교\n",
       "2       연세대학교\n",
       "3       서울대학교\n",
       "4       연세대학교\n",
       "        ...  \n",
       "9995    서울대학교\n",
       "9996    연세대학교\n",
       "9997    연세대학교\n",
       "9998    연세대학교\n",
       "9999    서울대학교\n",
       "Name: campus, Length: 10000, dtype: object"
      ]
     },
     "execution_count": 34,
     "metadata": {},
     "output_type": "execute_result"
    }
   ],
   "source": [
    "df.campus"
   ]
  },
  {
   "cell_type": "code",
   "execution_count": 92,
   "id": "bd81095f",
   "metadata": {},
   "outputs": [],
   "source": [
    "snu = df.campus == \"서울대학교\""
   ]
  },
  {
   "cell_type": "code",
   "execution_count": 93,
   "id": "574d5392",
   "metadata": {
    "scrolled": false
   },
   "outputs": [
    {
     "data": {
      "text/html": [
       "<div>\n",
       "<style scoped>\n",
       "    .dataframe tbody tr th:only-of-type {\n",
       "        vertical-align: middle;\n",
       "    }\n",
       "\n",
       "    .dataframe tbody tr th {\n",
       "        vertical-align: top;\n",
       "    }\n",
       "\n",
       "    .dataframe thead th {\n",
       "        text-align: right;\n",
       "    }\n",
       "</style>\n",
       "<table border=\"1\" class=\"dataframe\">\n",
       "  <thead>\n",
       "    <tr style=\"text-align: right;\">\n",
       "      <th></th>\n",
       "      <th>date</th>\n",
       "      <th>time</th>\n",
       "      <th>campus</th>\n",
       "      <th>building</th>\n",
       "      <th>floor</th>\n",
       "      <th>trash_type</th>\n",
       "      <th>rfid</th>\n",
       "      <th>amount</th>\n",
       "      <th>hour</th>\n",
       "    </tr>\n",
       "    <tr>\n",
       "      <th>token</th>\n",
       "      <th></th>\n",
       "      <th></th>\n",
       "      <th></th>\n",
       "      <th></th>\n",
       "      <th></th>\n",
       "      <th></th>\n",
       "      <th></th>\n",
       "      <th></th>\n",
       "      <th></th>\n",
       "    </tr>\n",
       "  </thead>\n",
       "  <tbody>\n",
       "    <tr>\n",
       "      <th>114GLA29</th>\n",
       "      <td>1119</td>\n",
       "      <td>1119</td>\n",
       "      <td>1119</td>\n",
       "      <td>1119</td>\n",
       "      <td>1119</td>\n",
       "      <td>1119</td>\n",
       "      <td>1119</td>\n",
       "      <td>1119</td>\n",
       "      <td>1119</td>\n",
       "    </tr>\n",
       "    <tr>\n",
       "      <th>11B2PPR10</th>\n",
       "      <td>1063</td>\n",
       "      <td>1063</td>\n",
       "      <td>1063</td>\n",
       "      <td>1063</td>\n",
       "      <td>1063</td>\n",
       "      <td>1063</td>\n",
       "      <td>1063</td>\n",
       "      <td>1063</td>\n",
       "      <td>1063</td>\n",
       "    </tr>\n",
       "    <tr>\n",
       "      <th>13B1GER61</th>\n",
       "      <td>1148</td>\n",
       "      <td>1148</td>\n",
       "      <td>1148</td>\n",
       "      <td>1148</td>\n",
       "      <td>1148</td>\n",
       "      <td>1148</td>\n",
       "      <td>1148</td>\n",
       "      <td>1148</td>\n",
       "      <td>1148</td>\n",
       "    </tr>\n",
       "    <tr>\n",
       "      <th>144PET117</th>\n",
       "      <td>1071</td>\n",
       "      <td>1071</td>\n",
       "      <td>1071</td>\n",
       "      <td>1071</td>\n",
       "      <td>1071</td>\n",
       "      <td>1071</td>\n",
       "      <td>1071</td>\n",
       "      <td>1071</td>\n",
       "      <td>1071</td>\n",
       "    </tr>\n",
       "    <tr>\n",
       "      <th>14B1GLA94</th>\n",
       "      <td>1156</td>\n",
       "      <td>1156</td>\n",
       "      <td>1156</td>\n",
       "      <td>1156</td>\n",
       "      <td>1156</td>\n",
       "      <td>1156</td>\n",
       "      <td>1156</td>\n",
       "      <td>1156</td>\n",
       "      <td>1156</td>\n",
       "    </tr>\n",
       "    <tr>\n",
       "      <th>152GLA139</th>\n",
       "      <td>1096</td>\n",
       "      <td>1096</td>\n",
       "      <td>1096</td>\n",
       "      <td>1096</td>\n",
       "      <td>1096</td>\n",
       "      <td>1096</td>\n",
       "      <td>1096</td>\n",
       "      <td>1096</td>\n",
       "      <td>1096</td>\n",
       "    </tr>\n",
       "    <tr>\n",
       "      <th>154GER146</th>\n",
       "      <td>1119</td>\n",
       "      <td>1119</td>\n",
       "      <td>1119</td>\n",
       "      <td>1119</td>\n",
       "      <td>1119</td>\n",
       "      <td>1119</td>\n",
       "      <td>1119</td>\n",
       "      <td>1119</td>\n",
       "      <td>1119</td>\n",
       "    </tr>\n",
       "    <tr>\n",
       "      <th>213PPR175</th>\n",
       "      <td>1119</td>\n",
       "      <td>1119</td>\n",
       "      <td>1119</td>\n",
       "      <td>1119</td>\n",
       "      <td>1119</td>\n",
       "      <td>1119</td>\n",
       "      <td>1119</td>\n",
       "      <td>1119</td>\n",
       "      <td>1119</td>\n",
       "    </tr>\n",
       "    <tr>\n",
       "      <th>224GLA209</th>\n",
       "      <td>1109</td>\n",
       "      <td>1109</td>\n",
       "      <td>1109</td>\n",
       "      <td>1109</td>\n",
       "      <td>1109</td>\n",
       "      <td>1109</td>\n",
       "      <td>1109</td>\n",
       "      <td>1109</td>\n",
       "      <td>1109</td>\n",
       "    </tr>\n",
       "  </tbody>\n",
       "</table>\n",
       "</div>"
      ],
      "text/plain": [
       "           date  time  campus  building  floor  trash_type  rfid  amount  hour\n",
       "token                                                                         \n",
       "114GLA29   1119  1119    1119      1119   1119        1119  1119    1119  1119\n",
       "11B2PPR10  1063  1063    1063      1063   1063        1063  1063    1063  1063\n",
       "13B1GER61  1148  1148    1148      1148   1148        1148  1148    1148  1148\n",
       "144PET117  1071  1071    1071      1071   1071        1071  1071    1071  1071\n",
       "14B1GLA94  1156  1156    1156      1156   1156        1156  1156    1156  1156\n",
       "152GLA139  1096  1096    1096      1096   1096        1096  1096    1096  1096\n",
       "154GER146  1119  1119    1119      1119   1119        1119  1119    1119  1119\n",
       "213PPR175  1119  1119    1119      1119   1119        1119  1119    1119  1119\n",
       "224GLA209  1109  1109    1109      1109   1109        1109  1109    1109  1109"
      ]
     },
     "execution_count": 93,
     "metadata": {},
     "output_type": "execute_result"
    }
   ],
   "source": [
    "df.groupby(['token']).count()"
   ]
  },
  {
   "cell_type": "code",
   "execution_count": 97,
   "id": "a322c94d",
   "metadata": {
    "scrolled": false
   },
   "outputs": [
    {
     "data": {
      "text/html": [
       "<div>\n",
       "<style scoped>\n",
       "    .dataframe tbody tr th:only-of-type {\n",
       "        vertical-align: middle;\n",
       "    }\n",
       "\n",
       "    .dataframe tbody tr th {\n",
       "        vertical-align: top;\n",
       "    }\n",
       "\n",
       "    .dataframe thead th {\n",
       "        text-align: right;\n",
       "    }\n",
       "</style>\n",
       "<table border=\"1\" class=\"dataframe\">\n",
       "  <thead>\n",
       "    <tr style=\"text-align: right;\">\n",
       "      <th></th>\n",
       "      <th>date</th>\n",
       "      <th>time</th>\n",
       "      <th>campus</th>\n",
       "      <th>building</th>\n",
       "      <th>floor</th>\n",
       "      <th>token</th>\n",
       "      <th>trash_type</th>\n",
       "      <th>rfid</th>\n",
       "      <th>amount</th>\n",
       "      <th>hour</th>\n",
       "    </tr>\n",
       "  </thead>\n",
       "  <tbody>\n",
       "    <tr>\n",
       "      <th>7249</th>\n",
       "      <td>2022/08/07</td>\n",
       "      <td>00:00:04</td>\n",
       "      <td>서울대학교</td>\n",
       "      <td>공학관</td>\n",
       "      <td>4</td>\n",
       "      <td>114GLA29</td>\n",
       "      <td>CAN</td>\n",
       "      <td>0000000263</td>\n",
       "      <td>0.4229516702131252</td>\n",
       "      <td>00</td>\n",
       "    </tr>\n",
       "    <tr>\n",
       "      <th>1476</th>\n",
       "      <td>2022/08/07</td>\n",
       "      <td>00:02:47</td>\n",
       "      <td>서울대학교</td>\n",
       "      <td>공학관</td>\n",
       "      <td>4</td>\n",
       "      <td>114GLA29</td>\n",
       "      <td>CAN</td>\n",
       "      <td>0000004598</td>\n",
       "      <td>0.06054571731093683</td>\n",
       "      <td>00</td>\n",
       "    </tr>\n",
       "    <tr>\n",
       "      <th>1189</th>\n",
       "      <td>2022/08/07</td>\n",
       "      <td>00:03:02</td>\n",
       "      <td>서울대학교</td>\n",
       "      <td>공학관</td>\n",
       "      <td>4</td>\n",
       "      <td>114GLA29</td>\n",
       "      <td>CAN</td>\n",
       "      <td>0000004267</td>\n",
       "      <td>0.05922851977797439</td>\n",
       "      <td>00</td>\n",
       "    </tr>\n",
       "    <tr>\n",
       "      <th>1817</th>\n",
       "      <td>2022/08/07</td>\n",
       "      <td>00:06:40</td>\n",
       "      <td>서울대학교</td>\n",
       "      <td>공학관</td>\n",
       "      <td>4</td>\n",
       "      <td>114GLA29</td>\n",
       "      <td>CAN</td>\n",
       "      <td>0000003954</td>\n",
       "      <td>0.7026807785895123</td>\n",
       "      <td>00</td>\n",
       "    </tr>\n",
       "    <tr>\n",
       "      <th>259</th>\n",
       "      <td>2022/08/07</td>\n",
       "      <td>00:08:05</td>\n",
       "      <td>서울대학교</td>\n",
       "      <td>공학관</td>\n",
       "      <td>4</td>\n",
       "      <td>114GLA29</td>\n",
       "      <td>CAN</td>\n",
       "      <td>0000003052</td>\n",
       "      <td>0.49425422082613524</td>\n",
       "      <td>00</td>\n",
       "    </tr>\n",
       "    <tr>\n",
       "      <th>...</th>\n",
       "      <td>...</td>\n",
       "      <td>...</td>\n",
       "      <td>...</td>\n",
       "      <td>...</td>\n",
       "      <td>...</td>\n",
       "      <td>...</td>\n",
       "      <td>...</td>\n",
       "      <td>...</td>\n",
       "      <td>...</td>\n",
       "      <td>...</td>\n",
       "    </tr>\n",
       "    <tr>\n",
       "      <th>546</th>\n",
       "      <td>2022/08/07</td>\n",
       "      <td>23:53:44</td>\n",
       "      <td>연세대학교</td>\n",
       "      <td>어학관</td>\n",
       "      <td>4</td>\n",
       "      <td>224GLA209</td>\n",
       "      <td>GLA</td>\n",
       "      <td>0000004877</td>\n",
       "      <td>0.46696187882343987</td>\n",
       "      <td>23</td>\n",
       "    </tr>\n",
       "    <tr>\n",
       "      <th>6365</th>\n",
       "      <td>2022/08/07</td>\n",
       "      <td>23:53:49</td>\n",
       "      <td>연세대학교</td>\n",
       "      <td>어학관</td>\n",
       "      <td>4</td>\n",
       "      <td>224GLA209</td>\n",
       "      <td>GLA</td>\n",
       "      <td>0000004565</td>\n",
       "      <td>0.7248661192463678</td>\n",
       "      <td>23</td>\n",
       "    </tr>\n",
       "    <tr>\n",
       "      <th>8553</th>\n",
       "      <td>2022/08/07</td>\n",
       "      <td>23:56:04</td>\n",
       "      <td>연세대학교</td>\n",
       "      <td>어학관</td>\n",
       "      <td>4</td>\n",
       "      <td>224GLA209</td>\n",
       "      <td>GLA</td>\n",
       "      <td>0000000570</td>\n",
       "      <td>0.029984830670626517</td>\n",
       "      <td>23</td>\n",
       "    </tr>\n",
       "    <tr>\n",
       "      <th>908</th>\n",
       "      <td>2022/08/07</td>\n",
       "      <td>23:56:48</td>\n",
       "      <td>연세대학교</td>\n",
       "      <td>어학관</td>\n",
       "      <td>4</td>\n",
       "      <td>224GLA209</td>\n",
       "      <td>GLA</td>\n",
       "      <td>0000003901</td>\n",
       "      <td>0.48572654773679025</td>\n",
       "      <td>23</td>\n",
       "    </tr>\n",
       "    <tr>\n",
       "      <th>3264</th>\n",
       "      <td>2022/08/07</td>\n",
       "      <td>23:59:43</td>\n",
       "      <td>연세대학교</td>\n",
       "      <td>어학관</td>\n",
       "      <td>4</td>\n",
       "      <td>224GLA209</td>\n",
       "      <td>GLA</td>\n",
       "      <td>0000000671</td>\n",
       "      <td>0.6074645498479302</td>\n",
       "      <td>23</td>\n",
       "    </tr>\n",
       "  </tbody>\n",
       "</table>\n",
       "<p>10000 rows × 10 columns</p>\n",
       "</div>"
      ],
      "text/plain": [
       "            date      time campus building floor      token trash_type  \\\n",
       "7249  2022/08/07  00:00:04  서울대학교      공학관     4   114GLA29        CAN   \n",
       "1476  2022/08/07  00:02:47  서울대학교      공학관     4   114GLA29        CAN   \n",
       "1189  2022/08/07  00:03:02  서울대학교      공학관     4   114GLA29        CAN   \n",
       "1817  2022/08/07  00:06:40  서울대학교      공학관     4   114GLA29        CAN   \n",
       "259   2022/08/07  00:08:05  서울대학교      공학관     4   114GLA29        CAN   \n",
       "...          ...       ...    ...      ...   ...        ...        ...   \n",
       "546   2022/08/07  23:53:44  연세대학교      어학관     4  224GLA209        GLA   \n",
       "6365  2022/08/07  23:53:49  연세대학교      어학관     4  224GLA209        GLA   \n",
       "8553  2022/08/07  23:56:04  연세대학교      어학관     4  224GLA209        GLA   \n",
       "908   2022/08/07  23:56:48  연세대학교      어학관     4  224GLA209        GLA   \n",
       "3264  2022/08/07  23:59:43  연세대학교      어학관     4  224GLA209        GLA   \n",
       "\n",
       "            rfid                amount hour  \n",
       "7249  0000000263    0.4229516702131252   00  \n",
       "1476  0000004598   0.06054571731093683   00  \n",
       "1189  0000004267   0.05922851977797439   00  \n",
       "1817  0000003954    0.7026807785895123   00  \n",
       "259   0000003052   0.49425422082613524   00  \n",
       "...          ...                   ...  ...  \n",
       "546   0000004877   0.46696187882343987   23  \n",
       "6365  0000004565    0.7248661192463678   23  \n",
       "8553  0000000570  0.029984830670626517   23  \n",
       "908   0000003901   0.48572654773679025   23  \n",
       "3264  0000000671    0.6074645498479302   23  \n",
       "\n",
       "[10000 rows x 10 columns]"
      ]
     },
     "execution_count": 97,
     "metadata": {},
     "output_type": "execute_result"
    }
   ],
   "source": [
    "df.sort_values(by=[\"token\", \"time\"])"
   ]
  },
  {
   "cell_type": "code",
   "execution_count": 101,
   "id": "013a92cd",
   "metadata": {},
   "outputs": [],
   "source": [
    "table = df.groupby([\"token\"]).time"
   ]
  },
  {
   "cell_type": "code",
   "execution_count": 150,
   "id": "f8b709ae",
   "metadata": {},
   "outputs": [],
   "source": [
    "table = df.groupby([\"token\", \"date\", \"hour\"]).date.count()"
   ]
  },
  {
   "cell_type": "code",
   "execution_count": 153,
   "id": "8f59469e",
   "metadata": {},
   "outputs": [
    {
     "data": {
      "text/plain": [
       "token      date        hour\n",
       "114GLA29   2022/08/07  00      36\n",
       "                       01      61\n",
       "                       02      43\n",
       "                       03      58\n",
       "                       04      43\n",
       "                               ..\n",
       "224GLA209  2022/08/07  19      48\n",
       "                       20      41\n",
       "                       21      47\n",
       "                       22      49\n",
       "                       23      48\n",
       "Name: date, Length: 216, dtype: int64"
      ]
     },
     "execution_count": 153,
     "metadata": {},
     "output_type": "execute_result"
    }
   ],
   "source": [
    "table"
   ]
  },
  {
   "cell_type": "code",
   "execution_count": 128,
   "id": "8eeaf17e",
   "metadata": {},
   "outputs": [],
   "source": [
    "table2 = df.groupby([\"campus\", \"building\", \"floor\", \"date\", \"hour\"]).date.count()"
   ]
  },
  {
   "cell_type": "code",
   "execution_count": 129,
   "id": "31893aef",
   "metadata": {
    "scrolled": true
   },
   "outputs": [
    {
     "data": {
      "text/plain": [
       "campus  building  floor  date        hour\n",
       "서울대학교   경영대학관     B1     2022/08/07  00      39\n",
       "                                     01      40\n",
       "                                     02      54\n",
       "                                     03      41\n",
       "                                     04      52\n",
       "                                             ..\n",
       "연세대학교   어학관       4      2022/08/07  19      48\n",
       "                                     20      41\n",
       "                                     21      47\n",
       "                                     22      49\n",
       "                                     23      48\n",
       "Name: date, Length: 216, dtype: int64"
      ]
     },
     "execution_count": 129,
     "metadata": {},
     "output_type": "execute_result"
    }
   ],
   "source": [
    "table2"
   ]
  },
  {
   "cell_type": "code",
   "execution_count": 140,
   "id": "7be33be2",
   "metadata": {},
   "outputs": [],
   "source": [
    "table3 = df.groupby([\"campus\", \"trash_type\"]).date.count()"
   ]
  },
  {
   "cell_type": "code",
   "execution_count": 139,
   "id": "550a30a6",
   "metadata": {},
   "outputs": [],
   "source": [
    "table4 = df.groupby([\"campus\", \"building\", \"trash_type\"]).date.count()"
   ]
  },
  {
   "cell_type": "code",
   "execution_count": 149,
   "id": "db3d6c58",
   "metadata": {},
   "outputs": [
    {
     "data": {
      "text/plain": [
       "<AxesSubplot:ylabel='date'>"
      ]
     },
     "execution_count": 149,
     "metadata": {},
     "output_type": "execute_result"
    },
    {
     "data": {
      "image/png": "[encoded data removed]",
      "text/plain": [
       "<Figure size 432x288 with 1 Axes>"
      ]
     },
     "metadata": {},
     "output_type": "display_data"
    }
   ],
   "source": [
    "table4.loc[\"서울대학교\"].loc[\"공학관\"].plot.pie()"
   ]
  },
  {
   "cell_type": "code",
   "execution_count": 141,
   "id": "bd22cb54",
   "metadata": {},
   "outputs": [],
   "source": [
    "table3= table3.loc[\"서울대학교\"]\n"
   ]
  },
  {
   "cell_type": "code",
   "execution_count": 155,
   "id": "37266171",
   "metadata": {},
   "outputs": [
    {
     "data": {
      "text/plain": [
       "<AxesSubplot:ylabel='date'>"
      ]
     },
     "execution_count": 155,
     "metadata": {},
     "output_type": "execute_result"
    },
    {
     "data": {
      "image/png": "[encoded data removed]",
      "text/plain": [
       "<Figure size 432x288 with 1 Axes>"
      ]
     },
     "metadata": {},
     "output_type": "display_data"
    }
   ],
   "source": [
    "table3.plot.pie(autopct='%0.1f%%')"
   ]
  },
  {
   "cell_type": "code",
   "execution_count": 118,
   "id": "84147cae",
   "metadata": {
    "scrolled": true
   },
   "outputs": [
    {
     "data": {
      "text/plain": [
       "token      date        hour\n",
       "114GLA29   2022/08/07  00      36\n",
       "                       01      61\n",
       "                       02      43\n",
       "                       03      58\n",
       "                       04      43\n",
       "                               ..\n",
       "224GLA209  2022/08/07  19      48\n",
       "                       20      41\n",
       "                       21      47\n",
       "                       22      49\n",
       "                       23      48\n",
       "Name: date, Length: 216, dtype: int64"
      ]
     },
     "execution_count": 118,
     "metadata": {},
     "output_type": "execute_result"
    }
   ],
   "source": [
    "table"
   ]
  },
  {
   "cell_type": "code",
   "execution_count": 113,
   "id": "672697bd",
   "metadata": {},
   "outputs": [],
   "source": [
    "import matplotlib.pyplot as plt"
   ]
  },
  {
   "cell_type": "code",
   "execution_count": 116,
   "id": "67e45b2b",
   "metadata": {
    "scrolled": true
   },
   "outputs": [
    {
     "data": {
      "image/png": "[encoded data removed]",
      "text/plain": [
       "<Figure size 432x288 with 1 Axes>"
      ]
     },
     "metadata": {
      "needs_background": "light"
     },
     "output_type": "display_data"
    }
   ],
   "source": [
    "table.plot()\n",
    "plt.show()"
   ]
  },
  {
   "cell_type": "code",
   "execution_count": null,
   "id": "7e6da864",
   "metadata": {},
   "outputs": [],
   "source": []
  }
 ],
 "metadata": {
  "kernelspec": {
   "display_name": "Python 3.9.9 ('venv': venv)",
   "language": "python",
   "name": "python3"
  },
  "language_info": {
   "codemirror_mode": {
    "name": "ipython",
    "version": 3
   },
   "file_extension": ".py",
   "mimetype": "text/x-python",
   "name": "python",
   "nbconvert_exporter": "python",
   "pygments_lexer": "ipython3",
   "version": "3.9.9"
  },
  "vscode": {
   "interpreter": {
    "hash": "4a89cda28e8bf01e3422301f538547d9b800216833837a309abfe750ebea7f6d"
   }
  }
 },
 "nbformat": 4,
 "nbformat_minor": 5
}
