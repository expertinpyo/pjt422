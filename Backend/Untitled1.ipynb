{
 "cells": [
  {
   "cell_type": "code",
   "execution_count": 83,
   "id": "cffae8e6",
   "metadata": {},
   "outputs": [],
   "source": [
    "import pandas as pd\n",
    "import numpy as np\n",
    "from datetime import datetime\n",
    "\n",
    "today = ''.join(str(datetime.date(datetime.today())).split('-'))\n",
    "with open (f'log_dummy/20220501', encoding='UTF8') as f:\n",
    "    records = [line.rstrip().split(' ') for line in f]\n",
    "columns = ['date', 'time', 'building', 'building_pk', 'floor', 'floor_pk','token', 'trash_type', 'rfid', 'amount']\n",
    "df = pd.DataFrame(records, columns=columns)\n"
   ]
  },
  {
   "cell_type": "code",
   "execution_count": 84,
   "id": "d915139d",
   "metadata": {},
   "outputs": [],
   "source": [
    "df['hour'] = df.time.str[:2]"
   ]
  },
  {
   "cell_type": "code",
   "execution_count": 85,
   "id": "7515332c",
   "metadata": {},
   "outputs": [],
   "source": [
    "df['year'] = df.date.str[:4]"
   ]
  },
  {
   "cell_type": "code",
   "execution_count": 86,
   "id": "09b2fd80",
   "metadata": {},
   "outputs": [],
   "source": [
    "df['month'] = df.date.str[4:6]"
   ]
  },
  {
   "cell_type": "code",
   "execution_count": 87,
   "id": "035b0313",
   "metadata": {},
   "outputs": [],
   "source": [
    "df.date = df.date.str[6:]"
   ]
  },
  {
   "cell_type": "code",
   "execution_count": 88,
   "id": "c9304aa1",
   "metadata": {},
   "outputs": [],
   "source": [
    "right_data = df.drop_duplicates(subset=['token'])"
   ]
  },
  {
   "cell_type": "code",
   "execution_count": 89,
   "id": "5920dc8a",
   "metadata": {},
   "outputs": [],
   "source": [
    "left_data = df.groupby(['token', 'hour']).date.count().unstack(fill_value=0)"
   ]
  },
  {
   "cell_type": "code",
   "execution_count": 90,
   "id": "743314bb",
   "metadata": {},
   "outputs": [],
   "source": [
    "left_data.reset_index(inplace=True)"
   ]
  },
  {
   "cell_type": "code",
   "execution_count": 91,
   "id": "24dc6eb0",
   "metadata": {},
   "outputs": [],
   "source": [
    "labels = ['token', 'hour_00','hour_01','hour_02','hour_03','hour_04','hour_05','hour_06','hour_07','hour_08','hour_09','hour_10','hour_11','hour_12','hour_13','hour_14','hour_15','hour_16','hour_17','hour_18','hour_19','hour_20','hour_21','hour_22','hour_23']"
   ]
  },
  {
   "cell_type": "code",
   "execution_count": 92,
   "id": "74578077",
   "metadata": {},
   "outputs": [],
   "source": [
    "left_data.columns = labels"
   ]
  },
  {
   "cell_type": "code",
   "execution_count": 93,
   "id": "4fb636d0",
   "metadata": {},
   "outputs": [],
   "source": [
    "left_data['total'] = left_data.sum(numeric_only=True, axis=1)"
   ]
  },
  {
   "cell_type": "code",
   "execution_count": 94,
   "id": "38140050",
   "metadata": {},
   "outputs": [],
   "source": [
    "new_df = left_data.merge(right_data, on='token')"
   ]
  },
  {
   "cell_type": "code",
   "execution_count": 95,
   "id": "7313179d",
   "metadata": {},
   "outputs": [],
   "source": [
    "types = new_df.drop(columns = ['hour_00','hour_01','hour_02','hour_03','hour_04','hour_05','hour_06','hour_07','hour_08','hour_09','hour_10','hour_11','hour_12','hour_13','hour_14','hour_15','hour_16','hour_17','hour_18','hour_19','hour_20','hour_21','hour_22','hour_23'])"
   ]
  },
  {
   "cell_type": "code",
   "execution_count": 96,
   "id": "3e26fd83",
   "metadata": {},
   "outputs": [],
   "source": [
    "trashbin= new_df.groupby(['year','month','date','building_pk', 'floor_pk','token', 'trash_type']).sum().reset_index()"
   ]
  },
  {
   "cell_type": "code",
   "execution_count": 105,
   "id": "a552d70a",
   "metadata": {},
   "outputs": [],
   "source": [
    "floor_type = types.groupby(['year','month','date','building_pk', 'floor_pk','trash_type']).total.sum().unstack(fill_value=0)"
   ]
  },
  {
   "cell_type": "code",
   "execution_count": 106,
   "id": "a6004110",
   "metadata": {},
   "outputs": [],
   "source": [
    "floor_type.reset_index(inplace=True)"
   ]
  },
  {
   "cell_type": "code",
   "execution_count": 107,
   "id": "e268dda6",
   "metadata": {},
   "outputs": [],
   "source": [
    "floor_type.drop(columns = ['year', 'month', 'date', 'building_pk'], inplace=True)"
   ]
  },
  {
   "cell_type": "code",
   "execution_count": 111,
   "id": "064c20fa",
   "metadata": {
    "scrolled": false
   },
   "outputs": [],
   "source": [
    "floor = new_df.groupby(['year','month','date','building_pk', 'floor_pk']).sum().reset_index()\n",
    "floor = floor.merge(floor_type, on='floor_pk')"
   ]
  },
  {
   "cell_type": "code",
   "execution_count": 112,
   "id": "1810e181",
   "metadata": {},
   "outputs": [
    {
     "name": "stdout",
     "output_type": "stream",
     "text": [
      "<class 'pandas.core.frame.DataFrame'>\n",
      "Int64Index: 22 entries, 0 to 21\n",
      "Data columns (total 35 columns):\n",
      " #   Column       Non-Null Count  Dtype \n",
      "---  ------       --------------  ----- \n",
      " 0   year         22 non-null     object\n",
      " 1   month        22 non-null     object\n",
      " 2   date         22 non-null     object\n",
      " 3   building_pk  22 non-null     object\n",
      " 4   floor_pk     22 non-null     object\n",
      " 5   hour_00      22 non-null     int64 \n",
      " 6   hour_01      22 non-null     int64 \n",
      " 7   hour_02      22 non-null     int64 \n",
      " 8   hour_03      22 non-null     int64 \n",
      " 9   hour_04      22 non-null     int64 \n",
      " 10  hour_05      22 non-null     int64 \n",
      " 11  hour_06      22 non-null     int64 \n",
      " 12  hour_07      22 non-null     int64 \n",
      " 13  hour_08      22 non-null     int64 \n",
      " 14  hour_09      22 non-null     int64 \n",
      " 15  hour_10      22 non-null     int64 \n",
      " 16  hour_11      22 non-null     int64 \n",
      " 17  hour_12      22 non-null     int64 \n",
      " 18  hour_13      22 non-null     int64 \n",
      " 19  hour_14      22 non-null     int64 \n",
      " 20  hour_15      22 non-null     int64 \n",
      " 21  hour_16      22 non-null     int64 \n",
      " 22  hour_17      22 non-null     int64 \n",
      " 23  hour_18      22 non-null     int64 \n",
      " 24  hour_19      22 non-null     int64 \n",
      " 25  hour_20      22 non-null     int64 \n",
      " 26  hour_21      22 non-null     int64 \n",
      " 27  hour_22      22 non-null     int64 \n",
      " 28  hour_23      22 non-null     int64 \n",
      " 29  total        22 non-null     int64 \n",
      " 30  CAN          22 non-null     int64 \n",
      " 31  GER          22 non-null     int64 \n",
      " 32  GLA          22 non-null     int64 \n",
      " 33  PET          22 non-null     int64 \n",
      " 34  PPR          22 non-null     int64 \n",
      "dtypes: int64(30), object(5)\n",
      "memory usage: 6.2+ KB\n"
     ]
    }
   ],
   "source": [
    "floor.info()"
   ]
  },
  {
   "cell_type": "code",
   "execution_count": 101,
   "id": "95aa28b4",
   "metadata": {},
   "outputs": [],
   "source": [
    "building_type = types.groupby(['year','month','date','building_pk','trash_type']).total.sum().unstack(fill_value=0)"
   ]
  },
  {
   "cell_type": "code",
   "execution_count": 102,
   "id": "9f391c5c",
   "metadata": {},
   "outputs": [],
   "source": [
    "building_type.reset_index(inplace=True)"
   ]
  },
  {
   "cell_type": "code",
   "execution_count": 103,
   "id": "90046537",
   "metadata": {},
   "outputs": [],
   "source": [
    "building_type.drop(columns = ['year', 'month', 'date'], inplace=True)"
   ]
  },
  {
   "cell_type": "code",
   "execution_count": 104,
   "id": "8b86b214",
   "metadata": {},
   "outputs": [
    {
     "data": {
      "text/html": [
       "<div>\n",
       "<style scoped>\n",
       "    .dataframe tbody tr th:only-of-type {\n",
       "        vertical-align: middle;\n",
       "    }\n",
       "\n",
       "    .dataframe tbody tr th {\n",
       "        vertical-align: top;\n",
       "    }\n",
       "\n",
       "    .dataframe thead th {\n",
       "        text-align: right;\n",
       "    }\n",
       "</style>\n",
       "<table border=\"1\" class=\"dataframe\">\n",
       "  <thead>\n",
       "    <tr style=\"text-align: right;\">\n",
       "      <th></th>\n",
       "      <th>year</th>\n",
       "      <th>month</th>\n",
       "      <th>date</th>\n",
       "      <th>building_pk</th>\n",
       "      <th>hour_00</th>\n",
       "      <th>hour_01</th>\n",
       "      <th>hour_02</th>\n",
       "      <th>hour_03</th>\n",
       "      <th>hour_04</th>\n",
       "      <th>hour_05</th>\n",
       "      <th>...</th>\n",
       "      <th>hour_20</th>\n",
       "      <th>hour_21</th>\n",
       "      <th>hour_22</th>\n",
       "      <th>hour_23</th>\n",
       "      <th>total</th>\n",
       "      <th>CAN</th>\n",
       "      <th>GER</th>\n",
       "      <th>GLA</th>\n",
       "      <th>PET</th>\n",
       "      <th>PPR</th>\n",
       "    </tr>\n",
       "  </thead>\n",
       "  <tbody>\n",
       "    <tr>\n",
       "      <th>0</th>\n",
       "      <td>2022</td>\n",
       "      <td>05</td>\n",
       "      <td>01</td>\n",
       "      <td>1</td>\n",
       "      <td>6</td>\n",
       "      <td>9</td>\n",
       "      <td>8</td>\n",
       "      <td>7</td>\n",
       "      <td>5</td>\n",
       "      <td>4</td>\n",
       "      <td>...</td>\n",
       "      <td>11</td>\n",
       "      <td>5</td>\n",
       "      <td>7</td>\n",
       "      <td>9</td>\n",
       "      <td>170</td>\n",
       "      <td>48</td>\n",
       "      <td>28</td>\n",
       "      <td>28</td>\n",
       "      <td>23</td>\n",
       "      <td>43</td>\n",
       "    </tr>\n",
       "    <tr>\n",
       "      <th>1</th>\n",
       "      <td>2022</td>\n",
       "      <td>05</td>\n",
       "      <td>01</td>\n",
       "      <td>2</td>\n",
       "      <td>8</td>\n",
       "      <td>12</td>\n",
       "      <td>10</td>\n",
       "      <td>11</td>\n",
       "      <td>10</td>\n",
       "      <td>10</td>\n",
       "      <td>...</td>\n",
       "      <td>10</td>\n",
       "      <td>14</td>\n",
       "      <td>10</td>\n",
       "      <td>11</td>\n",
       "      <td>244</td>\n",
       "      <td>44</td>\n",
       "      <td>35</td>\n",
       "      <td>64</td>\n",
       "      <td>43</td>\n",
       "      <td>58</td>\n",
       "    </tr>\n",
       "    <tr>\n",
       "      <th>2</th>\n",
       "      <td>2022</td>\n",
       "      <td>05</td>\n",
       "      <td>01</td>\n",
       "      <td>3</td>\n",
       "      <td>16</td>\n",
       "      <td>14</td>\n",
       "      <td>15</td>\n",
       "      <td>6</td>\n",
       "      <td>15</td>\n",
       "      <td>12</td>\n",
       "      <td>...</td>\n",
       "      <td>14</td>\n",
       "      <td>10</td>\n",
       "      <td>18</td>\n",
       "      <td>12</td>\n",
       "      <td>298</td>\n",
       "      <td>46</td>\n",
       "      <td>57</td>\n",
       "      <td>94</td>\n",
       "      <td>48</td>\n",
       "      <td>53</td>\n",
       "    </tr>\n",
       "    <tr>\n",
       "      <th>3</th>\n",
       "      <td>2022</td>\n",
       "      <td>05</td>\n",
       "      <td>01</td>\n",
       "      <td>4</td>\n",
       "      <td>2</td>\n",
       "      <td>7</td>\n",
       "      <td>2</td>\n",
       "      <td>5</td>\n",
       "      <td>8</td>\n",
       "      <td>4</td>\n",
       "      <td>...</td>\n",
       "      <td>4</td>\n",
       "      <td>7</td>\n",
       "      <td>3</td>\n",
       "      <td>3</td>\n",
       "      <td>105</td>\n",
       "      <td>12</td>\n",
       "      <td>21</td>\n",
       "      <td>30</td>\n",
       "      <td>9</td>\n",
       "      <td>33</td>\n",
       "    </tr>\n",
       "    <tr>\n",
       "      <th>4</th>\n",
       "      <td>2022</td>\n",
       "      <td>05</td>\n",
       "      <td>01</td>\n",
       "      <td>5</td>\n",
       "      <td>11</td>\n",
       "      <td>7</td>\n",
       "      <td>7</td>\n",
       "      <td>6</td>\n",
       "      <td>10</td>\n",
       "      <td>9</td>\n",
       "      <td>...</td>\n",
       "      <td>6</td>\n",
       "      <td>5</td>\n",
       "      <td>5</td>\n",
       "      <td>7</td>\n",
       "      <td>183</td>\n",
       "      <td>33</td>\n",
       "      <td>45</td>\n",
       "      <td>46</td>\n",
       "      <td>26</td>\n",
       "      <td>33</td>\n",
       "    </tr>\n",
       "  </tbody>\n",
       "</table>\n",
       "<p>5 rows × 34 columns</p>\n",
       "</div>"
      ],
      "text/plain": [
       "   year month date building_pk  hour_00  hour_01  hour_02  hour_03  hour_04  \\\n",
       "0  2022    05   01           1        6        9        8        7        5   \n",
       "1  2022    05   01           2        8       12       10       11       10   \n",
       "2  2022    05   01           3       16       14       15        6       15   \n",
       "3  2022    05   01           4        2        7        2        5        8   \n",
       "4  2022    05   01           5       11        7        7        6       10   \n",
       "\n",
       "   hour_05  ...  hour_20  hour_21  hour_22  hour_23  total  CAN  GER  GLA  \\\n",
       "0        4  ...       11        5        7        9    170   48   28   28   \n",
       "1       10  ...       10       14       10       11    244   44   35   64   \n",
       "2       12  ...       14       10       18       12    298   46   57   94   \n",
       "3        4  ...        4        7        3        3    105   12   21   30   \n",
       "4        9  ...        6        5        5        7    183   33   45   46   \n",
       "\n",
       "   PET  PPR  \n",
       "0   23   43  \n",
       "1   43   58  \n",
       "2   48   53  \n",
       "3    9   33  \n",
       "4   26   33  \n",
       "\n",
       "[5 rows x 34 columns]"
      ]
     },
     "execution_count": 104,
     "metadata": {},
     "output_type": "execute_result"
    }
   ],
   "source": [
    "building = new_df.groupby(['year','month','date','building_pk']).sum().reset_index()\n",
    "building.merge(building_type, on='building_pk')"
   ]
  },
  {
   "cell_type": "code",
   "execution_count": 1,
   "id": "9e12026b",
   "metadata": {},
   "outputs": [],
   "source": [
    "import pandas as pd"
   ]
  },
  {
   "cell_type": "code",
   "execution_count": 4,
   "id": "9efc3218",
   "metadata": {},
   "outputs": [
    {
     "ename": "ImportError",
     "evalue": "attempted relative import with no known parent package",
     "output_type": "error",
     "traceback": [
      "\u001b[1;31m---------------------------------------------------------------------------\u001b[0m",
      "\u001b[1;31mImportError\u001b[0m                               Traceback (most recent call last)",
      "Input \u001b[1;32mIn [4]\u001b[0m, in \u001b[0;36m<cell line: 1>\u001b[1;34m()\u001b[0m\n\u001b[1;32m----> 1\u001b[0m \u001b[38;5;28;01mfrom\u001b[39;00m \u001b[38;5;21;01m.\u001b[39;00m\u001b[38;5;21;01mmodels\u001b[39;00m \u001b[38;5;28;01mimport\u001b[39;00m \u001b[38;5;241m*\u001b[39m\n",
      "\u001b[1;31mImportError\u001b[0m: attempted relative import with no known parent package"
     ]
    }
   ],
   "source": [
    "from .models import *"
   ]
  },
  {
   "cell_type": "code",
   "execution_count": null,
   "id": "e85718b9",
   "metadata": {},
   "outputs": [],
   "source": []
  }
 ],
 "metadata": {
  "kernelspec": {
   "display_name": "Python 3 (ipykernel)",
   "language": "python",
   "name": "python3"
  },
  "language_info": {
   "codemirror_mode": {
    "name": "ipython",
    "version": 3
   },
   "file_extension": ".py",
   "mimetype": "text/x-python",
   "name": "python",
   "nbconvert_exporter": "python",
   "pygments_lexer": "ipython3",
   "version": "3.9.12"
  },
  "toc": {
   "base_numbering": 1,
   "nav_menu": {},
   "number_sections": true,
   "sideBar": true,
   "skip_h1_title": false,
   "title_cell": "Table of Contents",
   "title_sidebar": "Contents",
   "toc_cell": false,
   "toc_position": {},
   "toc_section_display": true,
   "toc_window_display": false
  }
 },
 "nbformat": 4,
 "nbformat_minor": 5
}
